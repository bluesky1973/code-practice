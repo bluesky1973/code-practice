{
 "cells": [
  {
   "cell_type": "code",
   "execution_count": null,
   "metadata": {},
   "outputs": [],
   "source": [
    "import streamlit as st\n",
    "\n",
    "st.title('st.form')\n",
    "\n",
    "st.header('1. Example of using `with` notation')\n",
    "st.subheader('Coffee machine')\n",
    "\n",
    "with st.form('my_form'):\n",
    "    st.subheader('**Order your coffee**')\n",
    "    \n",
    "    coffee_bean_val = st.selectbox('coffee bean',['arabica','robusta'])\n",
    "    coffee_roast_val = st.selectbox('coffee roast',['light','medium','dark'])\n",
    "    brewing_val = st.selectbox('brewing method',['aeropress','drip','french press','moca pot','siphon'])\n",
    "    serving_type_val = st.selectbox('serving format',['hot','iced','frappe'])\n",
    "    milk_val = st.select_slider('milk intensity',['none','low','medium','high'])\n",
    "    owncup_val = st.checkbox('bring own cup')\n",
    "    \n",
    "    submitted = st.form_submit_button('submit')\n",
    "\n",
    "if submitted:\n",
    "    st.markdown(f'''\n",
    "                you have ordered:\n",
    "                - coffee bean: `{coffee_bean_val}`\n",
    "                - coffee roast: `{coffee_roast_val}`\n",
    "                - brewing: `{brewing_val}`\n",
    "                - serving type: `{serving_type_val}`\n",
    "                - milk: `{milk_val}`\n",
    "                - bring own cup:`{owncup_val}`\n",
    "                ''')\n",
    "else:\n",
    "    st.write('place your order!')\n",
    "    \n",
    "st.header('2. Example of object notation')\n",
    "\n",
    "form = st.form('my_form_2')\n",
    "selected_val = form.slider('select a value')\n",
    "form.form_submit_button('Submit')\n",
    "\n",
    "st.write('Selected value: ',selected_val)"
   ]
  }
 ],
 "metadata": {
  "language_info": {
   "name": "python"
  }
 },
 "nbformat": 4,
 "nbformat_minor": 2
}
