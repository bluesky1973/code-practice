{
 "cells": [
  {
   "cell_type": "code",
   "execution_count": 1,
   "metadata": {},
   "outputs": [
    {
     "data": {
      "text/plain": [
       "'2023-07-09'"
      ]
     },
     "execution_count": 1,
     "metadata": {},
     "output_type": "execute_result"
    }
   ],
   "source": [
    "import datetime\n",
    "d = datetime.datetime.now()\n",
    "f\"{d}\"\n",
    "f\"{d:%Y-%m-%d}\""
   ]
  },
  {
   "cell_type": "code",
   "execution_count": 1,
   "metadata": {},
   "outputs": [
    {
     "name": "stdout",
     "output_type": "stream",
     "text": [
      "[1, 4, 9, 16, 25]\n"
     ]
    }
   ],
   "source": [
    "numbers = [1,2,3,4,5]\n",
    "squared_numbers = []\n",
    "for num in numbers:\n",
    "    squared_numbers.append(num ** 2)\n",
    "print(squared_numbers)"
   ]
  },
  {
   "cell_type": "code",
   "execution_count": 3,
   "metadata": {},
   "outputs": [
    {
     "name": "stdout",
     "output_type": "stream",
     "text": [
      "random number is: 9\n"
     ]
    }
   ],
   "source": [
    "import random\n",
    "\n",
    "random_number = random.randint(1,50)\n",
    "print(f\"random number is: {random_number}\")"
   ]
  },
  {
   "cell_type": "code",
   "execution_count": 1,
   "metadata": {},
   "outputs": [
    {
     "name": "stdout",
     "output_type": "stream",
     "text": [
      "Casey\n"
     ]
    }
   ],
   "source": [
    "reader = \"Casey\"\n",
    "print(reader)"
   ]
  },
  {
   "cell_type": "code",
   "execution_count": 2,
   "metadata": {},
   "outputs": [
    {
     "name": "stdout",
     "output_type": "stream",
     "text": [
      "Alex\n"
     ]
    }
   ],
   "source": [
    "reader = \"Alex\"\n",
    "print(reader)"
   ]
  },
  {
   "cell_type": "code",
   "execution_count": 3,
   "metadata": {},
   "outputs": [
    {
     "data": {
      "text/plain": [
       "int"
      ]
     },
     "execution_count": 3,
     "metadata": {},
     "output_type": "execute_result"
    }
   ],
   "source": [
    "favorite_number = 3\n",
    "type(favorite_number)"
   ]
  },
  {
   "cell_type": "code",
   "execution_count": 4,
   "metadata": {},
   "outputs": [
    {
     "data": {
      "text/plain": [
       "str"
      ]
     },
     "execution_count": 4,
     "metadata": {},
     "output_type": "execute_result"
    }
   ],
   "source": [
    "favorite_number = \"3\"\n",
    "type(favorite_number)"
   ]
  },
  {
   "cell_type": "code",
   "execution_count": 5,
   "metadata": {},
   "outputs": [
    {
     "name": "stdout",
     "output_type": "stream",
     "text": [
      "I'm so happy to be learning how to code in python!\n"
     ]
    }
   ],
   "source": [
    "print(\"I'm so happy to be learning how to code in python!\")"
   ]
  },
  {
   "cell_type": "code",
   "execution_count": 7,
   "metadata": {},
   "outputs": [
    {
     "data": {
      "text/plain": [
       "'I like cake'"
      ]
     },
     "execution_count": 7,
     "metadata": {},
     "output_type": "execute_result"
    }
   ],
   "source": [
    "food = \"cake\"\n",
    "f\"I like {food}\""
   ]
  },
  {
   "cell_type": "code",
   "execution_count": 8,
   "metadata": {},
   "outputs": [
    {
     "data": {
      "text/plain": [
       "\"I'm so happy to be learning how to code in python!\""
      ]
     },
     "execution_count": 8,
     "metadata": {},
     "output_type": "execute_result"
    }
   ],
   "source": [
    "feeling = \"happy\"\n",
    "f\"I'm so {feeling} to be learning how to code in python!\""
   ]
  },
  {
   "cell_type": "code",
   "execution_count": 9,
   "metadata": {},
   "outputs": [
    {
     "name": "stdout",
     "output_type": "stream",
     "text": [
      "Here is \n",
      "a sentence \n",
      "on many \n",
      "different lines.\n"
     ]
    }
   ],
   "source": [
    "print(\"Here is \\na sentence \\non many \\ndifferent lines.\")"
   ]
  },
  {
   "cell_type": "code",
   "execution_count": 12,
   "metadata": {},
   "outputs": [
    {
     "name": "stdout",
     "output_type": "stream",
     "text": [
      "\n",
      "Here is\n",
      "a sentence\n",
      "on many\n",
      "different lines.\n",
      "\n"
     ]
    }
   ],
   "source": [
    "multiline_sentence = \"\"\"\n",
    "Here is\n",
    "a sentence\n",
    "on many\n",
    "different lines.\n",
    "\"\"\"\n",
    "print(f\"{multiline_sentence}\")"
   ]
  },
  {
   "cell_type": "code",
   "execution_count": 13,
   "metadata": {},
   "outputs": [
    {
     "name": "stdout",
     "output_type": "stream",
     "text": [
      "Hi! My name is kim younghyo.\n"
     ]
    }
   ],
   "source": [
    "my_name = \"kim younghyo\"\n",
    "print(f\"Hi! My name is {my_name}.\")"
   ]
  },
  {
   "cell_type": "code",
   "execution_count": 18,
   "metadata": {},
   "outputs": [
    {
     "name": "stdout",
     "output_type": "stream",
     "text": [
      "Coding is a superpower! You can do so many cool things with your \n",
      "imagenation and code. -Adrienne Tacke\n"
     ]
    }
   ],
   "source": [
    "print(f\"Coding is a superpower! You can do so many cool things with your \\nimagenation and code. -Adrienne Tacke\")"
   ]
  },
  {
   "cell_type": "code",
   "execution_count": 19,
   "metadata": {},
   "outputs": [
    {
     "name": "stdout",
     "output_type": "stream",
     "text": [
      "Today, I feel curious!\n"
     ]
    }
   ],
   "source": [
    "Mood = \"curious\"\n",
    "print(f\"Today, I feel {Mood}!\")"
   ]
  },
  {
   "cell_type": "code",
   "execution_count": 23,
   "metadata": {},
   "outputs": [
    {
     "name": "stdout",
     "output_type": "stream",
     "text": [
      "\n",
      "Adrienne enjoys\n",
      "Coffee lots of coding and\n",
      "Teaching you Python\n",
      "\n"
     ]
    }
   ],
   "source": [
    "haiku = \"\"\"\n",
    "Adrienne enjoys\n",
    "Coffee lots of coding and\n",
    "Teaching you Python\n",
    "\"\"\"\n",
    "print(f\"{haiku}\")"
   ]
  },
  {
   "cell_type": "code",
   "execution_count": 25,
   "metadata": {},
   "outputs": [
    {
     "name": "stdout",
     "output_type": "stream",
     "text": [
      "\n",
      "Hi, my name is kim younghyo.\n",
      "I really like apple potato chip!\n",
      "I like it so much, I try to eat it at least 3 times\n",
      "every day.\n",
      "It tastes even better when you eat it under a oak!\n",
      "\n"
     ]
    }
   ],
   "source": [
    "name = \"kim younghyo\"\n",
    "adjective = \"apple\"\n",
    "favorite_snack = \"potato chip\"\n",
    "number = \"3\"\n",
    "type_of_tree = \"oak\"\n",
    "\n",
    "silly_story = f\"\"\"\n",
    "Hi, my name is {name}.\n",
    "I really like {adjective} {favorite_snack}!\n",
    "I like it so much, I try to eat it at least {number} times\n",
    "every day.\n",
    "It tastes even better when you eat it under a {type_of_tree}!\n",
    "\"\"\"\n",
    "print(silly_story)"
   ]
  },
  {
   "cell_type": "code",
   "execution_count": 27,
   "metadata": {},
   "outputs": [
    {
     "name": "stdout",
     "output_type": "stream",
     "text": [
      "\n",
      "    (0)\n",
      "   (000)\n",
      "  (00000)\n",
      " (0000000)\n",
      "(000000000)\n",
      "\n"
     ]
    }
   ],
   "source": [
    "multiline_cake = f\"\"\"\n",
    "    (0)\n",
    "   (000)\n",
    "  (00000)\n",
    " (0000000)\n",
    "(000000000)\n",
    "\"\"\"\n",
    "print(multiline_cake)"
   ]
  },
  {
   "cell_type": "code",
   "execution_count": 1,
   "metadata": {},
   "outputs": [
    {
     "data": {
      "text/plain": [
       "float"
      ]
     },
     "execution_count": 1,
     "metadata": {},
     "output_type": "execute_result"
    }
   ],
   "source": [
    "my_gpa = 3.47\n",
    "type(my_gpa)"
   ]
  },
  {
   "cell_type": "code",
   "execution_count": 2,
   "metadata": {},
   "outputs": [
    {
     "name": "stdout",
     "output_type": "stream",
     "text": [
      "9\n"
     ]
    }
   ],
   "source": [
    "a = 6\n",
    "b = 3\n",
    "a + b\n",
    "b ** a\n",
    "a % b\n",
    "print(a + b)"
   ]
  },
  {
   "cell_type": "code",
   "execution_count": 6,
   "metadata": {},
   "outputs": [
    {
     "name": "stdout",
     "output_type": "stream",
     "text": [
      "27\n"
     ]
    }
   ],
   "source": [
    "age = 20 + 7\n",
    "print(age)"
   ]
  },
  {
   "cell_type": "code",
   "execution_count": 7,
   "metadata": {},
   "outputs": [
    {
     "name": "stdout",
     "output_type": "stream",
     "text": [
      "Hi! My name is adrianne and I am 27 years old!\n"
     ]
    }
   ],
   "source": [
    "age = 20 + 7\n",
    "print(f\"Hi! My name is adrianne and I am {age} years old!\")"
   ]
  },
  {
   "cell_type": "code",
   "execution_count": 8,
   "metadata": {},
   "outputs": [
    {
     "name": "stdout",
     "output_type": "stream",
     "text": [
      "0\n"
     ]
    }
   ],
   "source": [
    "magic_number = 3\n",
    "print(magic_number ** 3 % 3)\n",
    "\n"
   ]
  },
  {
   "cell_type": "code",
   "execution_count": 9,
   "metadata": {},
   "outputs": [
    {
     "name": "stdout",
     "output_type": "stream",
     "text": [
      "Teddy's cookie has more chocolate chips than Dolores's. This is False!\n"
     ]
    }
   ],
   "source": [
    "dolores_chocolate_chips = 13\n",
    "teddy_chocolate_chips = 9\n",
    "\n",
    "teddy_chocolate_chips > dolores_chocolate_chips\n",
    "\n",
    "print(f\"Teddy's cookie has more chocolate chips than Dolores's. This is {teddy_chocolate_chips > dolores_chocolate_chips}!\")"
   ]
  },
  {
   "cell_type": "code",
   "execution_count": 10,
   "metadata": {},
   "outputs": [
    {
     "name": "stdout",
     "output_type": "stream",
     "text": [
      "Rey's cookies has less than or equal finn's. This is True!\n"
     ]
    }
   ],
   "source": [
    "rey_chocolate_chips = 10\n",
    "finn_chocolate_chips = 18\n",
    "\n",
    "rey_chocolate_chips <= finn_chocolate_chips\n",
    "\n",
    "print(f\"Rey's cookies has less than or equal finn's. This is {rey_chocolate_chips <= finn_chocolate_chips}!\")"
   ]
  },
  {
   "cell_type": "code",
   "execution_count": 1,
   "metadata": {},
   "outputs": [
    {
     "name": "stdout",
     "output_type": "stream",
     "text": [
      "basketball\n"
     ]
    }
   ],
   "source": [
    "print(\"basket\" + \"ball\")"
   ]
  },
  {
   "cell_type": "code",
   "execution_count": 2,
   "metadata": {},
   "outputs": [
    {
     "name": "stdout",
     "output_type": "stream",
     "text": [
      "AdrienneTacke\n"
     ]
    }
   ],
   "source": [
    "first_name = \"Adrienne\"\n",
    "last_name = \"Tacke\"\n",
    "\n",
    "print(first_name + last_name)"
   ]
  },
  {
   "cell_type": "code",
   "execution_count": 3,
   "metadata": {},
   "outputs": [
    {
     "name": "stdout",
     "output_type": "stream",
     "text": [
      "Adrienne Tacke\n"
     ]
    }
   ],
   "source": [
    "full_name = first_name + \" \" + last_name\n",
    "print(full_name)"
   ]
  },
  {
   "cell_type": "code",
   "execution_count": 4,
   "metadata": {},
   "outputs": [
    {
     "ename": "TypeError",
     "evalue": "unsupported operand type(s) for +: 'int' and 'str'",
     "output_type": "error",
     "traceback": [
      "\u001b[1;31m---------------------------------------------------------------------------\u001b[0m",
      "\u001b[1;31mTypeError\u001b[0m                                 Traceback (most recent call last)",
      "\u001b[1;32mc:\\Users\\김영효\\Desktop\\Coding Practice\\coding1.ipynb 셀 29\u001b[0m in \u001b[0;36m1\n\u001b[1;32m----> <a href='vscode-notebook-cell:/c%3A/Users/%EA%B9%80%EC%98%81%ED%9A%A8/Desktop/Coding%20Practice/coding1.ipynb#X40sZmlsZQ%3D%3D?line=0'>1</a>\u001b[0m \u001b[39mprint\u001b[39m(\u001b[39m3\u001b[39;49m \u001b[39m+\u001b[39;49m \u001b[39m\"\u001b[39;49m\u001b[39mCookies\u001b[39;49m\u001b[39m\"\u001b[39;49m)\n",
      "\u001b[1;31mTypeError\u001b[0m: unsupported operand type(s) for +: 'int' and 'str'"
     ]
    }
   ],
   "source": [
    "print(3 + \"Cookies\")"
   ]
  },
  {
   "cell_type": "code",
   "execution_count": 5,
   "metadata": {},
   "outputs": [
    {
     "name": "stdout",
     "output_type": "stream",
     "text": [
      "balloon!balloon!balloon!balloon!balloon!\n"
     ]
    }
   ],
   "source": [
    "print(5 * \"balloon!\")"
   ]
  },
  {
   "cell_type": "code",
   "execution_count": 6,
   "metadata": {},
   "outputs": [
    {
     "data": {
      "text/plain": [
       "False"
      ]
     },
     "execution_count": 6,
     "metadata": {},
     "output_type": "execute_result"
    }
   ],
   "source": [
    "my_favorite_desserts = ['cookies','cake','ice cream','donuts']\n",
    "citrus_fruits = ['orange','lemon','grapefruit','pomelo','lime']\n",
    "bunnies_spotted = [3,5,2,8,4,5,4,3,3]\n",
    "robot_answers = [True, False, False, True, True]\n",
    "facts_about_adrienne = ['Adrienne', 'Tacke', 27, True]\n",
    "more_citrus_fruits = ['orange', 'grapefruit', 'lemon', 'pomelo', 'lime']\n",
    "citrus_fruits == more_citrus_fruits\n"
   ]
  },
  {
   "cell_type": "code",
   "execution_count": 7,
   "metadata": {},
   "outputs": [
    {
     "data": {
      "text/plain": [
       "'orange'"
      ]
     },
     "execution_count": 7,
     "metadata": {},
     "output_type": "execute_result"
    }
   ],
   "source": [
    "citrus_fruits[0]"
   ]
  },
  {
   "cell_type": "code",
   "execution_count": 10,
   "metadata": {},
   "outputs": [
    {
     "data": {
      "text/plain": [
       "['grapefruit', 'pomelo']"
      ]
     },
     "execution_count": 10,
     "metadata": {},
     "output_type": "execute_result"
    }
   ],
   "source": [
    "citrus_fruits[2:4]"
   ]
  },
  {
   "cell_type": "code",
   "execution_count": 11,
   "metadata": {},
   "outputs": [
    {
     "data": {
      "text/plain": [
       "['orange', 'lemon', 'grapefruit', 'pomelo']"
      ]
     },
     "execution_count": 11,
     "metadata": {},
     "output_type": "execute_result"
    }
   ],
   "source": [
    "citrus_fruits[:4]"
   ]
  },
  {
   "cell_type": "code",
   "execution_count": 12,
   "metadata": {},
   "outputs": [
    {
     "data": {
      "text/plain": [
       "['grapefruit', 'pomelo', 'lime']"
      ]
     },
     "execution_count": 12,
     "metadata": {},
     "output_type": "execute_result"
    }
   ],
   "source": [
    "citrus_fruits[2:]"
   ]
  },
  {
   "cell_type": "code",
   "execution_count": 13,
   "metadata": {},
   "outputs": [],
   "source": [
    "my_favorite_deserts = []\n",
    "my_favorite_deserts += ['brownies','muffins','chocolate']"
   ]
  },
  {
   "cell_type": "code",
   "execution_count": 14,
   "metadata": {},
   "outputs": [
    {
     "name": "stdout",
     "output_type": "stream",
     "text": [
      "['brownies', 'muffins', 'chocolate']\n"
     ]
    }
   ],
   "source": [
    "print(my_favorite_deserts)"
   ]
  },
  {
   "cell_type": "code",
   "execution_count": 15,
   "metadata": {},
   "outputs": [
    {
     "data": {
      "text/plain": [
       "['brownies', 'muffins', 'chocolate']"
      ]
     },
     "execution_count": 15,
     "metadata": {},
     "output_type": "execute_result"
    }
   ],
   "source": [
    "my_favorite_deserts"
   ]
  },
  {
   "cell_type": "code",
   "execution_count": null,
   "metadata": {},
   "outputs": [],
   "source": []
  }
 ],
 "metadata": {
  "kernelspec": {
   "display_name": "Python 3",
   "language": "python",
   "name": "python3"
  },
  "language_info": {
   "codemirror_mode": {
    "name": "ipython",
    "version": 3
   },
   "file_extension": ".py",
   "mimetype": "text/x-python",
   "name": "python",
   "nbconvert_exporter": "python",
   "pygments_lexer": "ipython3",
   "version": "3.11.2"
  },
  "orig_nbformat": 4
 },
 "nbformat": 4,
 "nbformat_minor": 2
}
