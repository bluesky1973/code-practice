{
 "cells": [
  {
   "cell_type": "code",
   "execution_count": 2,
   "metadata": {},
   "outputs": [
    {
     "name": "stdout",
     "output_type": "stream",
     "text": [
      "Hello, person!\n",
      "Hello, person!\n",
      "Hello, person!\n"
     ]
    }
   ],
   "source": [
    "print(\"Hello, person!\")\n",
    "print(\"Hello, person!\")\n",
    "print(\"Hello, person!\")"
   ]
  },
  {
   "cell_type": "code",
   "execution_count": 3,
   "metadata": {},
   "outputs": [
    {
     "name": "stdout",
     "output_type": "stream",
     "text": [
      "Hello, person!\n"
     ]
    }
   ],
   "source": [
    "def greet():\n",
    "    print(\"Hello, person!\")\n",
    "\n",
    "greet()"
   ]
  },
  {
   "cell_type": "code",
   "execution_count": 7,
   "metadata": {},
   "outputs": [
    {
     "name": "stdout",
     "output_type": "stream",
     "text": [
      "Hello, younghyo!\n"
     ]
    }
   ],
   "source": [
    "def greet(name):\n",
    "    print(f\"Hello, {name}!\")\n",
    "\n",
    "greet(\"younghyo\")"
   ]
  },
  {
   "cell_type": "code",
   "execution_count": 16,
   "metadata": {},
   "outputs": [
    {
     "name": "stdout",
     "output_type": "stream",
     "text": [
      "Hello, david! Nice to meet you!\n"
     ]
    }
   ],
   "source": [
    "def greet(name,is_new):\n",
    "    if(is_new):\n",
    "        print(f\"Hello, {name}! Nice to meet you!\")\n",
    "    else:\n",
    "        print(f\"What's up, {name}? Nice to see you again!\")\n",
    "\n",
    "greet(\"david\",True)"
   ]
  },
  {
   "cell_type": "code",
   "execution_count": 17,
   "metadata": {},
   "outputs": [
    {
     "name": "stdout",
     "output_type": "stream",
     "text": [
      "19\n"
     ]
    }
   ],
   "source": [
    "def result(a,b):\n",
    "    print(a + b)\n",
    "\n",
    "result(10,9)\n"
   ]
  },
  {
   "cell_type": "code",
   "execution_count": 35,
   "metadata": {},
   "outputs": [
    {
     "name": "stdout",
     "output_type": "stream",
     "text": [
      "You're human.\n"
     ]
    }
   ],
   "source": [
    "def distinct(mankind,is_new):\n",
    "    if(mankind):\n",
    "        print(f\"You're {mankind}.\")\n",
    "    else:\n",
    "        print(f\"you're not {mankind}. you're robot.\")\n",
    "\n",
    "\n",
    "distinct(\"human\",False)"
   ]
  },
  {
   "cell_type": "code",
   "execution_count": null,
   "metadata": {},
   "outputs": [],
   "source": []
  }
 ],
 "metadata": {
  "kernelspec": {
   "display_name": "Python 3",
   "language": "python",
   "name": "python3"
  },
  "language_info": {
   "codemirror_mode": {
    "name": "ipython",
    "version": 3
   },
   "file_extension": ".py",
   "mimetype": "text/x-python",
   "name": "python",
   "nbconvert_exporter": "python",
   "pygments_lexer": "ipython3",
   "version": "3.11.2"
  },
  "orig_nbformat": 4
 },
 "nbformat": 4,
 "nbformat_minor": 2
}
